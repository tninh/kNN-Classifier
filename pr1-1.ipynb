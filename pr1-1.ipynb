{
 "cells": [
  {
   "cell_type": "code",
   "execution_count": 1,
   "metadata": {
    "collapsed": true
   },
   "outputs": [],
   "source": [
    "import numpy as np\n",
    "import pandas as pd\n",
    "import scipy.sparse as sp\n",
    "from numpy.linalg import norm\n",
    "from collections import Counter, defaultdict\n",
    "from scipy.sparse import csr_matrix"
   ]
  },
  {
   "cell_type": "code",
   "execution_count": 2,
   "metadata": {
    "collapsed": true
   },
   "outputs": [],
   "source": [
    "df = pd.read_table(filepath_or_buffer='train.dat', header=None)\n",
    "df1 = pd.read_table(filepath_or_buffer='test.dat', header=None)\n",
    "vals = df.iloc[:,:].values\n",
    "vals1 = df1.iloc[:,:].values\n",
    "reviewstest=[]\n",
    "for i in range(len(vals1)):\n",
    "    reviewstest.append(vals1[i,:])\n",
    "#reviewstest1 = reviewstest.tolist()\n",
    "reviews=[]\n",
    "sts=[]\n",
    "#print vals\n",
    "for i in range(len(vals)):\n",
    "    if(i == len(vals)):\n",
    "        break\n",
    "    else:\n",
    "        reviews.append(vals[i,1])\n",
    "for i in range(len(vals)):\n",
    "    if(i == len(vals)):\n",
    "        break\n",
    "    else:\n",
    "        sts.append(vals[i,0])"
   ]
  },
  {
   "cell_type": "code",
   "execution_count": 3,
   "metadata": {
    "collapsed": true
   },
   "outputs": [],
   "source": [
    "rvs=[]\n",
    "rvste=[]\n",
    "#sentiments stms\n",
    "#for i in range(len(reviews)):\n",
    " #rvs.append(reviews[i].reviews('<br /><br />'))\n",
    "for i in range(len(reviews)):\n",
    "    rvs.append(reviews[i].split('<br /><br />'))\n",
    "#y = isinstance(rvs, list)\n",
    "#print y\n",
    "for i in range(len(reviewstest)):\n",
    "    rvste.append(reviewstest[i].tolist())"
   ]
  },
  {
   "cell_type": "code",
   "execution_count": 4,
   "metadata": {
    "collapsed": true
   },
   "outputs": [],
   "source": [
    "def cmer(rv, c = 3):\n",
    "    str1 = ''.join(map(str, rv))\n",
    "    str1 = str1.lower()\n",
    "    v = []\n",
    "    n = len(str1)\n",
    "    for i in range(0, n-c+1):\n",
    "        v.append(str1[i:i+c])\n",
    "    return v"
   ]
  },
  {
   "cell_type": "code",
   "execution_count": 5,
   "metadata": {
    "collapsed": true
   },
   "outputs": [],
   "source": [
    "def build_matrix(docs):\n",
    "    r\"\"\" Build sparse matrix from a list of documents, \n",
    "    each of which is a list of word/terms in the document.  \n",
    "    \"\"\"\n",
    "    nrows = len(docs)\n",
    "    idx = {}\n",
    "    tid = 0\n",
    "    nnz = 0\n",
    "    for d in docs:\n",
    "        nnz += len(set(d))\n",
    "        for w in d:\n",
    "            if w not in idx:\n",
    "                idx[w] = tid\n",
    "                tid += 1\n",
    "    ncols = len(idx)\n",
    "        \n",
    "    # set up memory\n",
    "    ind = np.zeros(nnz, dtype=np.int)\n",
    "    val = np.zeros(nnz, dtype=np.double)\n",
    "    ptr = np.zeros(nrows+1, dtype=np.int)\n",
    "    i = 0  # document ID / row counter\n",
    "    n = 0  # non-zero counter\n",
    "    # transfer values\n",
    "    for d in docs:\n",
    "        cnt = Counter(d)\n",
    "        keys = list(k for k,_ in cnt.most_common())\n",
    "        l = len(keys)\n",
    "        for j,k in enumerate(keys):\n",
    "            ind[j+n] = idx[k]\n",
    "            val[j+n] = cnt[k]\n",
    "        ptr[i+1] = ptr[i] + l\n",
    "        n += l\n",
    "        i += 1\n",
    "            \n",
    "    mat = csr_matrix((val, ind, ptr), shape=(nrows, ncols), dtype=np.double)\n",
    "    mat.sort_indices()\n",
    "    \n",
    "    return mat\n",
    "\n",
    "def csr_info(mat, review=\"\", non_empy=False):\n",
    "    r\"\"\" Print out info about this CSR matrix. If non_empy, \n",
    "    report number of non-empty rows and cols as well\n",
    "    \"\"\"\n",
    "    if non_empy:\n",
    "        print(\"%s [nrows %d (%d non-empty), ncols %d (%d non-empty), nnz %d]\" % (\n",
    "                name, mat.shape[0], \n",
    "                sum(1 if mat.indptr[i+1] > mat.indptr[i] else 0 \n",
    "                for i in range(mat.shape[0])), \n",
    "                mat.shape[1], len(np.unique(mat.indices)), \n",
    "                len(mat.data)))\n",
    "    else:\n",
    "        print( \"%s [nrows %d, ncols %d, nnz %d]\" % (name, \n",
    "                mat.shape[0], mat.shape[1], len(mat.data)) )\n",
    "        \n",
    "def csr_l2normalize(mat, copy=False, **kargs):\n",
    "    r\"\"\" Normalize the rows of a CSR matrix by their L-2 norm. \n",
    "    If copy is True, returns a copy of the normalized matrix.\n",
    "    \"\"\"\n",
    "    if copy is True:\n",
    "        mat = mat.copy()\n",
    "    nrows = mat.shape[0]\n",
    "    nnz = mat.nnz\n",
    "    ind, val, ptr = mat.indices, mat.data, mat.indptr\n",
    "    # normalize\n",
    "    for i in range(nrows):\n",
    "        rsum = 0.0    \n",
    "        for j in range(ptr[i], ptr[i+1]):\n",
    "            rsum += val[j]**2\n",
    "        if rsum == 0.0:\n",
    "            continue  # do not normalize empty rows\n",
    "        rsum = 1.0/np.sqrt(rsum)\n",
    "        for j in range(ptr[i], ptr[i+1]):\n",
    "            val[j] *= rsum\n",
    "            \n",
    "    if copy is True:\n",
    "        return mat\n",
    "def namesToMatrix(revs, c):\n",
    "    #for rv in revs:\n",
    "     #st = ''.join(map(str, rv))\n",
    "      #docs = [cmer(st, c)]\n",
    "    docs = [cmer(r,c) for r in revs]\n",
    "    return build_matrix(docs)"
   ]
  },
  {
   "cell_type": "code",
   "execution_count": 6,
   "metadata": {
    "collapsed": true
   },
   "outputs": [],
   "source": [
    "# tc = 0\n",
    "# k = 3\n",
    "# pr=[]\n",
    "# mat1 = namesToMatrix(rvs, 3)\n",
    "# mat2 = namesToMatrix(rvste, 3)\n",
    "# m1 = csr_l2normalize(mat1, copy=True)\n",
    "# m2 = csr_l2normalize(mat2, copy=True)\n",
    "# dots = (m1[0].T).dot(m2[0])\n",
    "# sims = list(zip(dots.indices, dots.data))\n",
    "# sims.sort(key=lambda x: x[1], reverse=True)\n",
    "# tc = Counter(sts[s[0]] for s in sims[:k]).most_common(2)\n",
    "# if len(tc) < 2 or tc[0][1] > tc[1][1]:\n",
    "#             # majority vote\n",
    "#     tc = tc[0][0]\n",
    "#         # tie break\n",
    "#     tc = defaultdict(float)\n",
    "#     for s in sims[:k]:\n",
    "#         tc[sts[s[0]]] += s[1]\n",
    "#         pr.append(sorted(tc.items(), key=lambda x: x[1], reverse=True)[0][0])\n"
   ]
  },
  {
   "cell_type": "code",
   "execution_count": 7,
   "metadata": {
    "collapsed": true
   },
   "outputs": [],
   "source": [
    "#sts[518]"
   ]
  },
  {
   "cell_type": "code",
   "execution_count": 6,
   "metadata": {
    "collapsed": true
   },
   "outputs": [],
   "source": [
    "def classifyNames(rvs, sts, rvste, c=3, k=3):\n",
    "    r\"\"\" Classify names using c-mer frequency vector representations of the names and kNN classification with \n",
    "    cosine similarity and 10-fold cross validation\n",
    "    \"\"\"\n",
    "    docs = [cmer(r, c) for r in rvs]\n",
    "    docs1 = [cmer(r, c) for r in rvste]\n",
    "    mat = build_matrix(docs)\n",
    "    mat1 = build_matrix(docs1)\n",
    "    #ststr = sts\n",
    "    # since we're using cosine similarity, normalize the vectors\n",
    "    m = csr_l2normalize(mat, copy=True)\n",
    "    m1 = csr_l2normalize(mat1, copy=True)\n",
    "    def classify(x, train, sts1):\n",
    "        r\"\"\" Classify vector x using kNN and majority vote rule given training data and associated classes\n",
    "        \"\"\"\n",
    "        # find nearest neighbors for x\n",
    "        dots = (x.T).dot(train)\n",
    "        sims = list(zip(dots.indices, dots.data))\n",
    "        if len(sims) == 0:\n",
    "            # could not find any neighbors\n",
    "            return '+1' if np.random.rand() > 0.5 else '-1'\n",
    "        sims.sort(key=lambda x: x[1], reverse=True)\n",
    "        sts1 = sts\n",
    "        tc = Counter(sts1[s[0]] for s in sims[:k] if s[0] < 25000 and s[0] > -1).most_common(2)\n",
    "        if len(tc) < 2 or tc[0][1] > tc[1][1]:\n",
    "            # majority vote\n",
    "            return tc[0][0]\n",
    "        # tie break\n",
    "        tc = defaultdict(float)\n",
    "        for s in sims[:k]:\n",
    "            if s[0] < 25000 and s[0] > -1:\n",
    "                tc[sts1[s[0]]] += s[1]\n",
    "        return sorted(tc.items(), key=lambda x: x[1], reverse=True)[0][0]\n",
    "        \n",
    "    macc = 0.0\n",
    "    \n",
    "        # split data into training and testing\n",
    "        #train, ststr = splitData(mat, sts, f+1, d)\n",
    "        # predict the class of each test sample\n",
    "    sts1 = sts \n",
    "    stspr = [ classify(m1[i,:], m[i], sts1) for i in range(m1.shape[0]) ]\n",
    "        \n",
    "        # compute the accuracy of the prediction\n",
    "    stspr1=[]\n",
    "    for i in range(len(stspr)):\n",
    "        stspr1.append(stspr[i])\n",
    "        \n",
    "    f = open(\"r0.dat\", \"w\")\n",
    "    f.write(\"\\n\".join(map(lambda x: str(x), stspr)))\n",
    "    f.close()\n",
    "    return stspr1"
   ]
  },
  {
   "cell_type": "code",
   "execution_count": 8,
   "metadata": {
    "collapsed": true
   },
   "outputs": [],
   "source": [
    "pr = classifyNames(rvs, sts, rvste, c = 3, k = 2)"
   ]
  },
  {
   "cell_type": "code",
   "execution_count": null,
   "metadata": {
    "collapsed": true
   },
   "outputs": [],
   "source": []
  },
  {
   "cell_type": "code",
   "execution_count": 11,
   "metadata": {},
   "outputs": [
    {
     "data": {
      "text/plain": [
       "25000"
      ]
     },
     "execution_count": 11,
     "metadata": {},
     "output_type": "execute_result"
    }
   ],
   "source": [
    "len(pr)"
   ]
  },
  {
   "cell_type": "code",
   "execution_count": null,
   "metadata": {
    "collapsed": true
   },
   "outputs": [],
   "source": []
  }
 ],
 "metadata": {
  "kernelspec": {
   "display_name": "Python 2",
   "language": "python",
   "name": "python2"
  },
  "language_info": {
   "codemirror_mode": {
    "name": "ipython",
    "version": 2
   },
   "file_extension": ".py",
   "mimetype": "text/x-python",
   "name": "python",
   "nbconvert_exporter": "python",
   "pygments_lexer": "ipython2",
   "version": "2.7.13"
  }
 },
 "nbformat": 4,
 "nbformat_minor": 2
}
